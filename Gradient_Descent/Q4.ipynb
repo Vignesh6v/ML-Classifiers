{
 "cells": [
  {
   "cell_type": "markdown",
   "metadata": {},
   "source": [
    "## Question 4: Logistic Regression and Gradient Descent "
   ]
  },
  {
   "cell_type": "code",
   "execution_count": 40,
   "metadata": {
    "collapsed": true
   },
   "outputs": [],
   "source": [
    "# import the necessary packages\n",
    "import matplotlib.pyplot as plt\n",
    "from sklearn.datasets import load_breast_cancer\n",
    "from sklearn.model_selection import train_test_split\n",
    "from sklearn.preprocessing import StandardScaler\n",
    "from sklearn.metrics import confusion_matrix,accuracy_score\n",
    "from sklearn.metrics import recall_score,precision_score\n",
    "import numpy as np\n",
    "import argparse"
   ]
  },
  {
   "cell_type": "code",
   "execution_count": 41,
   "metadata": {
    "collapsed": true
   },
   "outputs": [],
   "source": [
    "# sigmoid function\n",
    "def sigmoid_activation(x):\n",
    "    return 1.0 / (1 + np.exp(-x))"
   ]
  },
  {
   "cell_type": "markdown",
   "metadata": {},
   "source": [
    "Loading Cancer dataset"
   ]
  },
  {
   "cell_type": "code",
   "execution_count": 42,
   "metadata": {
    "collapsed": true
   },
   "outputs": [],
   "source": [
    "cancer = load_breast_cancer()\n",
    "X= StandardScaler().fit_transform(cancer.data)\n",
    "X_train, X_test, y_train, y_test = train_test_split(X, cancer.target, stratify=cancer.target, random_state=42)"
   ]
  },
  {
   "cell_type": "markdown",
   "metadata": {},
   "source": [
    "### a. Chossing alpha value\n",
    "Setting best values for alpha \n",
    "* Alpha = 1"
   ]
  },
  {
   "cell_type": "code",
   "execution_count": 79,
   "metadata": {
    "collapsed": true
   },
   "outputs": [],
   "source": [
    "args={}\n",
    "args['epochs'] = 100\n",
    "args['alpha'] = 1"
   ]
  },
  {
   "cell_type": "code",
   "execution_count": 80,
   "metadata": {
    "collapsed": false
   },
   "outputs": [
    {
     "name": "stdout",
     "output_type": "stream",
     "text": [
      "[INFO] starting training...\n",
      "[INFO] epoch #100, loss=5.7669447\n"
     ]
    }
   ],
   "source": [
    "# Dataset\n",
    "X_train = np.c_[np.ones((X_train.shape[0])), X_train]\n",
    "X_test = np.c_[np.ones((X_test.shape[0])), X_test]\n",
    "\n",
    "print(\"[INFO] starting training...\")\n",
    "W = np.random.uniform(size=(X_train.shape[1],))\n",
    "\n",
    "\n",
    "lossHistory = []\n",
    "for epoch in np.arange(0, args[\"epochs\"]):\n",
    "    preds = sigmoid_activation(X_train.dot(W))\n",
    "    error = preds - y_train\n",
    "    loss = np.sum(error ** 2)\n",
    "    lossHistory.append(loss)\n",
    "    gradient = X_train.T.dot(error) / X_train.shape[0]\n",
    "    W += -args[\"alpha\"] * gradient\n",
    "    \n",
    "print(\"[INFO] epoch #{}, loss={:.7f}\".format(epoch + 1, loss))\n",
    "\n",
    "\n",
    "y_pred = []\n",
    "for i in range(X_test.shape[0]):\n",
    "    activation = sigmoid_activation(X_test[i].dot(W))\n",
    "    label = 0 if activation < 0.5 else 1\n",
    "    y_pred.append(label)\n"
   ]
  },
  {
   "cell_type": "markdown",
   "metadata": {},
   "source": [
    "### b . Report the accuracy, recall (true positive rate) and precision."
   ]
  },
  {
   "cell_type": "code",
   "execution_count": 81,
   "metadata": {
    "collapsed": false
   },
   "outputs": [
    {
     "name": "stdout",
     "output_type": "stream",
     "text": [
      "Confusiton Matrix\n",
      "[[52  1]\n",
      " [ 2 88]]\n",
      "Accuracy: 0.9790210\n",
      "Recall: 0.9777778\n",
      "Precision: 0.9887640\n"
     ]
    }
   ],
   "source": [
    "print (\"Confusiton Matrix\")\n",
    "print (confusion_matrix(y_test, y_pred))\n",
    "print (\"Accuracy: {:.7f}\".format(accuracy_score(y_test,y_pred)))\n",
    "print (\"Recall: {:.7f}\".format(recall_score(y_test,y_pred)))\n",
    "print (\"Precision: {:.7f}\".format(precision_score(y_test,y_pred)))"
   ]
  },
  {
   "cell_type": "code",
   "execution_count": 82,
   "metadata": {
    "collapsed": false
   },
   "outputs": [
    {
     "data": {
      "image/png": "[encoded data removed]",
      "text/plain": [
       "<matplotlib.figure.Figure at 0x1139704d0>"
      ]
     },
     "metadata": {},
     "output_type": "display_data"
    }
   ],
   "source": [
    "# construct a figure that plots the loss over time\n",
    "fig = plt.figure()\n",
    "plt.plot(np.arange(0, args[\"epochs\"]), lossHistory)\n",
    "fig.suptitle(\"Training Loss\")\n",
    "plt.xlabel(\"Epoch #\")\n",
    "plt.ylabel(\"Loss\")\n",
    "plt.show()"
   ]
  }
 ],
 "metadata": {
  "kernelspec": {
   "display_name": "Python 2",
   "language": "python",
   "name": "python2"
  },
  "language_info": {
   "codemirror_mode": {
    "name": "ipython",
    "version": 2
   },
   "file_extension": ".py",
   "mimetype": "text/x-python",
   "name": "python",
   "nbconvert_exporter": "python",
   "pygments_lexer": "ipython2",
   "version": "2.7.13"
  }
 },
 "nbformat": 4,
 "nbformat_minor": 2
}
